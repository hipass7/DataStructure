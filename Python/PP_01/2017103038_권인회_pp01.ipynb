{
 "cells": [
  {
   "cell_type": "code",
   "execution_count": 66,
   "id": "bd602255",
   "metadata": {},
   "outputs": [
    {
     "name": "stdout",
     "output_type": "stream",
     "text": [
      "6 8 \n",
      "10 12\n",
      "-4 -4 \n",
      "-4 -4\n"
     ]
    }
   ],
   "source": [
    "class Matrix:\n",
    "    def __init__(self, first, second, third, fourth):\n",
    "        self.first = first\n",
    "        self.second = second\n",
    "        self.third = third\n",
    "        self.fourth = fourth\n",
    "        self.list = [first, second, third, fourth]\n",
    "    \n",
    "    def __add__(self, other):\n",
    "        result = Matrix(0, 0, 0, 0)\n",
    "        result.list = [self.first + other.first, self.second + other.second, self.third + other.third, self.fourth + other.fourth]\n",
    "        return result\n",
    "        \n",
    "    def __sub__(self, other):\n",
    "        result = Matrix(0, 0, 0, 0)\n",
    "        result.list = [self.first - other.first, self.second - other.second, self.third - other.third, self.fourth - other.fourth]\n",
    "        return result\n",
    "    \n",
    "    def __str__(self):\n",
    "        return \"{} {} \\n{} {}\".format(self.list[0], self.list[1], self.list[2], self.list[3])\n",
    "\n",
    "if __name__ == \"__main__\":\n",
    "    A = Matrix(1, 2, 3, 4)\n",
    "    B = Matrix(5, 6, 7, 8)\n",
    "    \n",
    "    C = A+B\n",
    "    D = A-B\n",
    "    \n",
    "    print(C)\n",
    "    print(D)"
   ]
  }
 ],
 "metadata": {
  "kernelspec": {
   "display_name": "Python 3",
   "language": "python",
   "name": "python3"
  },
  "language_info": {
   "codemirror_mode": {
    "name": "ipython",
    "version": 3
   },
   "file_extension": ".py",
   "mimetype": "text/x-python",
   "name": "python",
   "nbconvert_exporter": "python",
   "pygments_lexer": "ipython3",
   "version": "3.8.8"
  }
 },
 "nbformat": 4,
 "nbformat_minor": 5
}
